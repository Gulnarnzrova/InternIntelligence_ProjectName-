{
 "cells": [
  {
   "cell_type": "code",
   "execution_count": 1,
   "id": "37d0e993-354a-42dd-9adf-d38befb73db2",
   "metadata": {},
   "outputs": [],
   "source": [
    "import pandas as pd"
   ]
  },
  {
   "cell_type": "code",
   "execution_count": 7,
   "id": "7fef6e8f-8111-4762-809d-e4ca1f27a615",
   "metadata": {},
   "outputs": [
    {
     "name": "stdout",
     "output_type": "stream",
     "text": [
      "   employee_id         department     region         education gender  \\\n",
      "0        65438  Sales & Marketing   region_7  Master's & above      f   \n",
      "1        65141         Operations  region_22        Bachelor's      m   \n",
      "2         7513  Sales & Marketing  region_19        Bachelor's      m   \n",
      "3         2542  Sales & Marketing  region_23        Bachelor's      m   \n",
      "4        48945         Technology  region_26        Bachelor's      m   \n",
      "\n",
      "  recruitment_channel  no_of_trainings  age  previous_year_rating  \\\n",
      "0            sourcing                1   35                   5.0   \n",
      "1               other                1   30                   5.0   \n",
      "2            sourcing                1   34                   3.0   \n",
      "3               other                2   39                   1.0   \n",
      "4               other                1   45                   3.0   \n",
      "\n",
      "   length_of_service  KPIs_met >80%  awards_won?  avg_training_score  \\\n",
      "0                  8              1            0                  49   \n",
      "1                  4              0            0                  60   \n",
      "2                  7              0            0                  50   \n",
      "3                 10              0            0                  50   \n",
      "4                  2              0            0                  73   \n",
      "\n",
      "   is_promoted  \n",
      "0            0  \n",
      "1            0  \n",
      "2            0  \n",
      "3            0  \n",
      "4            0  \n"
     ]
    }
   ],
   "source": [
    "df = pd.read_csv(r\"C:/Users/User/Desktop/train.csv\") \n",
    "print(df.head())"
   ]
  },
  {
   "cell_type": "code",
   "execution_count": 11,
   "id": "dc341e9a-1398-4283-9dff-79bc3aa81d34",
   "metadata": {},
   "outputs": [
    {
     "name": "stdout",
     "output_type": "stream",
     "text": [
      "Data successfully loaded into SQL database!\n"
     ]
    }
   ],
   "source": [
    "import sqlite3\n",
    "\n",
    "conn = sqlite3.connect(\"data_pipeline.db\")\n",
    "cursor = conn.cursor()\n",
    "\n",
    "df.to_sql(\"social_media_data\", conn, if_exists=\"replace\", index=False)\n",
    "\n",
    "print(\"Data successfully loaded into SQL database!\")\n",
    "\n",
    "conn.close()"
   ]
  },
  {
   "cell_type": "code",
   "execution_count": 13,
   "id": "3e415d7a-e663-4a74-a452-8d67ca220a70",
   "metadata": {},
   "outputs": [
    {
     "name": "stdout",
     "output_type": "stream",
     "text": [
      "   employee_id         department     region         education gender  \\\n",
      "0        65438  Sales & Marketing   region_7  Master's & above      f   \n",
      "1        65141         Operations  region_22        Bachelor's      m   \n",
      "2         7513  Sales & Marketing  region_19        Bachelor's      m   \n",
      "3         2542  Sales & Marketing  region_23        Bachelor's      m   \n",
      "4        48945         Technology  region_26        Bachelor's      m   \n",
      "\n",
      "  recruitment_channel  no_of_trainings  age  previous_year_rating  \\\n",
      "0            sourcing                1   35                   5.0   \n",
      "1               other                1   30                   5.0   \n",
      "2            sourcing                1   34                   3.0   \n",
      "3               other                2   39                   1.0   \n",
      "4               other                1   45                   3.0   \n",
      "\n",
      "   length_of_service  KPIs_met >80%  awards_won?  avg_training_score  \\\n",
      "0                  8              1            0                  49   \n",
      "1                  4              0            0                  60   \n",
      "2                  7              0            0                  50   \n",
      "3                 10              0            0                  50   \n",
      "4                  2              0            0                  73   \n",
      "\n",
      "   is_promoted  \n",
      "0            0  \n",
      "1            0  \n",
      "2            0  \n",
      "3            0  \n",
      "4            0  \n"
     ]
    }
   ],
   "source": [
    "conn = sqlite3.connect(\"data_pipeline.db\")\n",
    "\n",
    "query = \"SELECT * FROM social_media_data LIMIT 5;\"\n",
    "df_sql = pd.read_sql(query, conn)\n",
    "\n",
    "print(df_sql)\n",
    "\n",
    "conn.close()\n"
   ]
  },
  {
   "cell_type": "code",
   "execution_count": 15,
   "id": "de18c51a-5104-4e9d-8e60-25f28ced247e",
   "metadata": {},
   "outputs": [
    {
     "name": "stdout",
     "output_type": "stream",
     "text": [
      "Data Cleaning and Transformation Completed Successfully!\n"
     ]
    }
   ],
   "source": [
    "conn = sqlite3.connect(\"data_pipeline.db\")\n",
    "\n",
    "df = pd.read_sql(\"SELECT * FROM social_media_data\", conn)\n",
    "il\n",
    "df = df.dropna()\n",
    "\n",
    "df = df.drop_duplicates()\n",
    "\n",
    "df.columns = [col.strip().lower().replace(\" \", \"_\") for col in df.columns]\n",
    "\n",
    "df.to_sql(\"cleaned_social_media_data\", conn, if_exists=\"replace\", index=False)\n",
    "\n",
    "print(\"Data Cleaning and Transformation Completed Successfully!\")\n",
    "\n",
    "conn.close()"
   ]
  },
  {
   "cell_type": "code",
   "execution_count": 17,
   "id": "c0c07f9f-00e5-4e0a-9680-8f06fe7c04b1",
   "metadata": {},
   "outputs": [
    {
     "name": "stdout",
     "output_type": "stream",
     "text": [
      "✅ ETL Pipeline successfully completed!\n"
     ]
    }
   ],
   "source": [
    "import sqlite3\n",
    "import pandas as pd\n",
    "\n",
    "def etl_pipeline(csv_path, db_name=\"data_pipeline.db\"):\n",
    "   \n",
    "conn = sqlite3.connect(db_name)\n",
    "cursor = conn.cursor()\n",
    "\n",
    "df = pd.read_csv(csv_path)\n",
    "df.to_sql(\"social_media_data\", conn, if_exists=\"replace\", index=False)\n",
    "\n",
    "df = df.dropna() \n",
    "df = df.drop_duplicates()  \n",
    "df.columns = [col.strip().lower().replace(\" \", \"_\") for col in df.columns]  \n",
    "    \n",
    "df.to_sql(\"cleaned_social_media_data\", conn, if_exists=\"replace\", index=False)\n",
    "\n",
    "\n",
    "conn.close()\n",
    "    \n",
    "print(\"✅ ETL Pipeline successfully completed!\")\n",
    "\n",
    "etl_pipeline(\"C:/Users/User/Desktop/train.csv\") \n"
   ]
  },
  {
   "cell_type": "code",
   "execution_count": null,
   "id": "991a0472-f1af-41c8-8972-e25263a5b723",
   "metadata": {},
   "outputs": [],
   "source": []
  }
 ],
 "metadata": {
  "kernelspec": {
   "display_name": "Python [conda env:base] *",
   "language": "python",
   "name": "conda-base-py"
  },
  "language_info": {
   "codemirror_mode": {
    "name": "ipython",
    "version": 3
   },
   "file_extension": ".py",
   "mimetype": "text/x-python",
   "name": "python",
   "nbconvert_exporter": "python",
   "pygments_lexer": "ipython3",
   "version": "3.12.7"
  }
 },
 "nbformat": 4,
 "nbformat_minor": 5
}
